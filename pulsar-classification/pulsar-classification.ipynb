{
 "cells": [
  {
   "cell_type": "markdown",
   "metadata": {},
   "source": [
    "# Pulsar classification"
   ]
  },
  {
   "cell_type": "code",
   "execution_count": 1,
   "metadata": {},
   "outputs": [],
   "source": [
    "import pandas as pd\n",
    "import numpy as np\n",
    "import itertools"
   ]
  },
  {
   "cell_type": "code",
   "execution_count": 2,
   "metadata": {},
   "outputs": [],
   "source": [
    "import matplotlib.pyplot as plt\n",
    "from matplotlib import cm\n",
    "from matplotlib.colors import ListedColormap\n",
    "\n",
    "import seaborn as sns"
   ]
  },
  {
   "cell_type": "code",
   "execution_count": 3,
   "metadata": {},
   "outputs": [],
   "source": [
    "from sklearn.linear_model import SGDClassifier\n",
    "from sklearn.model_selection import train_test_split, ShuffleSplit, StratifiedShuffleSplit, cross_val_predict\n",
    "from sklearn.metrics import confusion_matrix, plot_confusion_matrix, precision_score, recall_score\n",
    "from sklearn.metrics import precision_recall_curve"
   ]
  },
  {
   "cell_type": "markdown",
   "metadata": {},
   "source": [
    "## Some functions"
   ]
  },
  {
   "cell_type": "markdown",
   "metadata": {},
   "source": [
    "**Printing ratio of TRUE class**"
   ]
  },
  {
   "cell_type": "code",
   "execution_count": 4,
   "metadata": {},
   "outputs": [],
   "source": [
    "def pulsar_ratio(v_count):\n",
    "    return(v_count[1]/v_count[0])"
   ]
  },
  {
   "cell_type": "markdown",
   "metadata": {},
   "source": [
    "**Plotting binary classfication metrics** (Confusion matrice, precision and recall)\n"
   ]
  },
  {
   "cell_type": "code",
   "execution_count": 66,
   "metadata": {},
   "outputs": [],
   "source": [
    "def plot_binary_class_metrics(cm, precision_scr, recall_scr, title='Confusion matrix', figsize=(5,5)):\n",
    "\n",
    "    cmap = plt.get_cmap('RdYlGn')\n",
    "    fig, ax = plt.subplots(figsize=figsize)    \n",
    "    \n",
    "    # We want cell (0,0) and (1,1) in green as True Negatives and True Positives\n",
    "    # We want cell (0,1) and (1,0) in red as False Positives and  False Negatives\n",
    "    color_mat = np.array([[1,0], [0,1]])\n",
    "    plt.imshow(color_mat, interpolation='none', alpha = 0.8,\n",
    "               vmin = 0, vmax = 1, cmap=cmap)\n",
    "    \n",
    "    # Set title\n",
    "    plt.title(title, fontsize = 14)\n",
    "    #ax.title.set_position([0.5,1])\n",
    "    \n",
    "    \n",
    "    # Set major ticks and ticks labels\n",
    "    tick_marks = np.arange(2)\n",
    "    plt.xticks(np.arange(2), [\"NOT Pulsar\\n(Predicted)\", \"Pulsar\\n(Predicted)\"])\n",
    "    plt.yticks(np.arange(2), [\"NOT Pulsar\\n(Observed)\", \"Pulsar\\n(Observed)\"])\n",
    "    \n",
    "    # Set minor ticks for displaying grid\n",
    "    ax.set_xticks(np.arange(0.5, 1), minor=True)\n",
    "    ax.set_yticks(np.arange(0.5, 1), minor=True)\n",
    "    ax.grid(which='minor', color='w', linestyle='-', linewidth=1)\n",
    "\n",
    "    # Display major xticks on Top and yticks on Left\n",
    "    plt.tick_params(which='major', bottom=False,\n",
    "                    top=True, labelbottom=False, labeltop=True) \n",
    "    \n",
    "    cm_labels = np.array([\"True Negative\\n\",\"False Positive\\n\",\n",
    "                        \"False Negative\\n\", \"True Positive\\n\"]).reshape(2,2)\n",
    "    \n",
    "    for i, j in itertools.product(range(cm.shape[0]), range(cm.shape[1])):\n",
    "        plt.text(j, i, \"{0}{1:,}\".format(cm_labels[i,j],cm[i, j]), verticalalignment=\"center\",\n",
    "                 horizontalalignment=\"center\", color=\"white\", fontsize = 12)\n",
    "\n",
    "    #plt.tight_layout()\n",
    "    plt.xlabel('Precision: {0:0.3f}\\nRecall:{1:0.3f}'.format(precision_scr,recall_scr), fontsize = 14)\n",
    "    plt.show()"
   ]
  },
  {
   "cell_type": "markdown",
   "metadata": {},
   "source": [
    "## Getting the data\n",
    "\n",
    "The data set shared here contains 16,259 spurious examples caused by RFI/noise, and 1,639 real pulsar examples.\n",
    "\n",
    "Each observation is described by 8 continuous variables:\n",
    "* The first four (continuous) variables are simple statistics obtained from the integrated pulse profile (folded profile). They describe a longitude-resolved version of the signal that has been averaged in both time and frequency.\n",
    "* The remaining four variables are similarly obtained from the DM-SNR curve.\n",
    "\n",
    "The complete list of the variables are:\n",
    "\t1. Mean of the integrated profile.\n",
    "\t2. Standard deviation of the integrated profile.\n",
    "\t3. Excess kurtosis of the integrated profile.\n",
    "\t4. Skewness of the integrated profile.\n",
    "\t5. Mean of the DM-SNR curve.\n",
    "\t6. Standard deviation of the DM-SNR curve.\n",
    "\t7. Excess kurtosis of the DM-SNR curve.\n",
    "\t8. Skewness of the DM-SNR curve."
   ]
  },
  {
   "cell_type": "code",
   "execution_count": 5,
   "metadata": {},
   "outputs": [],
   "source": [
    "filename = \"../data/HTRU_2.csv\""
   ]
  },
  {
   "cell_type": "markdown",
   "metadata": {},
   "source": [
    "#### Define columns, variables and labels"
   ]
  },
  {
   "cell_type": "code",
   "execution_count": 6,
   "metadata": {},
   "outputs": [],
   "source": [
    "column_names = [\"mean_ip\",\n",
    "               \"sd_ip\",\n",
    "               \"kurt_ip\",\n",
    "               \"skew_ip\",\n",
    "               \"mean_dmsnr\",\n",
    "               \"sd_dmsnr\",\n",
    "               \"kurt_dmsnr\",\n",
    "               \"skew_dmsnr\",\n",
    "               \"is_pulsar\"]\n",
    "\n",
    "# all variables\n",
    "variables = column_names[:-1]\n",
    "\n",
    "# labels (last column)\n",
    "labels = column_names[-1]"
   ]
  },
  {
   "cell_type": "markdown",
   "metadata": {},
   "source": [
    "#### Read data from data file"
   ]
  },
  {
   "cell_type": "code",
   "execution_count": 7,
   "metadata": {},
   "outputs": [],
   "source": [
    "pulsars = pd.read_csv(filename,\n",
    "                     header = None,\n",
    "                     names = column_names)"
   ]
  },
  {
   "cell_type": "code",
   "execution_count": 8,
   "metadata": {},
   "outputs": [
    {
     "data": {
      "text/html": [
       "<div>\n",
       "<style scoped>\n",
       "    .dataframe tbody tr th:only-of-type {\n",
       "        vertical-align: middle;\n",
       "    }\n",
       "\n",
       "    .dataframe tbody tr th {\n",
       "        vertical-align: top;\n",
       "    }\n",
       "\n",
       "    .dataframe thead th {\n",
       "        text-align: right;\n",
       "    }\n",
       "</style>\n",
       "<table border=\"1\" class=\"dataframe\">\n",
       "  <thead>\n",
       "    <tr style=\"text-align: right;\">\n",
       "      <th></th>\n",
       "      <th>mean_ip</th>\n",
       "      <th>sd_ip</th>\n",
       "      <th>kurt_ip</th>\n",
       "      <th>skew_ip</th>\n",
       "      <th>mean_dmsnr</th>\n",
       "      <th>sd_dmsnr</th>\n",
       "      <th>kurt_dmsnr</th>\n",
       "      <th>skew_dmsnr</th>\n",
       "      <th>is_pulsar</th>\n",
       "    </tr>\n",
       "  </thead>\n",
       "  <tbody>\n",
       "    <tr>\n",
       "      <th>0</th>\n",
       "      <td>140.562500</td>\n",
       "      <td>55.683782</td>\n",
       "      <td>-0.234571</td>\n",
       "      <td>-0.699648</td>\n",
       "      <td>3.199833</td>\n",
       "      <td>19.110426</td>\n",
       "      <td>7.975532</td>\n",
       "      <td>74.242225</td>\n",
       "      <td>0</td>\n",
       "    </tr>\n",
       "    <tr>\n",
       "      <th>1</th>\n",
       "      <td>102.507812</td>\n",
       "      <td>58.882430</td>\n",
       "      <td>0.465318</td>\n",
       "      <td>-0.515088</td>\n",
       "      <td>1.677258</td>\n",
       "      <td>14.860146</td>\n",
       "      <td>10.576487</td>\n",
       "      <td>127.393580</td>\n",
       "      <td>0</td>\n",
       "    </tr>\n",
       "    <tr>\n",
       "      <th>2</th>\n",
       "      <td>103.015625</td>\n",
       "      <td>39.341649</td>\n",
       "      <td>0.323328</td>\n",
       "      <td>1.051164</td>\n",
       "      <td>3.121237</td>\n",
       "      <td>21.744669</td>\n",
       "      <td>7.735822</td>\n",
       "      <td>63.171909</td>\n",
       "      <td>0</td>\n",
       "    </tr>\n",
       "  </tbody>\n",
       "</table>\n",
       "</div>"
      ],
      "text/plain": [
       "      mean_ip      sd_ip   kurt_ip   skew_ip  mean_dmsnr   sd_dmsnr  \\\n",
       "0  140.562500  55.683782 -0.234571 -0.699648    3.199833  19.110426   \n",
       "1  102.507812  58.882430  0.465318 -0.515088    1.677258  14.860146   \n",
       "2  103.015625  39.341649  0.323328  1.051164    3.121237  21.744669   \n",
       "\n",
       "   kurt_dmsnr  skew_dmsnr  is_pulsar  \n",
       "0    7.975532   74.242225          0  \n",
       "1   10.576487  127.393580          0  \n",
       "2    7.735822   63.171909          0  "
      ]
     },
     "execution_count": 8,
     "metadata": {},
     "output_type": "execute_result"
    }
   ],
   "source": [
    "pulsars.head(3)"
   ]
  },
  {
   "cell_type": "code",
   "execution_count": 9,
   "metadata": {},
   "outputs": [
    {
     "name": "stdout",
     "output_type": "stream",
     "text": [
      "<class 'pandas.core.frame.DataFrame'>\n",
      "RangeIndex: 17898 entries, 0 to 17897\n",
      "Data columns (total 9 columns):\n",
      "mean_ip       17898 non-null float64\n",
      "sd_ip         17898 non-null float64\n",
      "kurt_ip       17898 non-null float64\n",
      "skew_ip       17898 non-null float64\n",
      "mean_dmsnr    17898 non-null float64\n",
      "sd_dmsnr      17898 non-null float64\n",
      "kurt_dmsnr    17898 non-null float64\n",
      "skew_dmsnr    17898 non-null float64\n",
      "is_pulsar     17898 non-null int64\n",
      "dtypes: float64(8), int64(1)\n",
      "memory usage: 1.2 MB\n"
     ]
    }
   ],
   "source": [
    "pulsars.info()"
   ]
  },
  {
   "cell_type": "markdown",
   "metadata": {},
   "source": [
    "### Correlation of explanatory variables\n",
    "Let's have a look on how explanatory variables are **correlated**."
   ]
  },
  {
   "cell_type": "code",
   "execution_count": 10,
   "metadata": {},
   "outputs": [
    {
     "data": {
      "text/html": [
       "<div>\n",
       "<style scoped>\n",
       "    .dataframe tbody tr th:only-of-type {\n",
       "        vertical-align: middle;\n",
       "    }\n",
       "\n",
       "    .dataframe tbody tr th {\n",
       "        vertical-align: top;\n",
       "    }\n",
       "\n",
       "    .dataframe thead th {\n",
       "        text-align: right;\n",
       "    }\n",
       "</style>\n",
       "<table border=\"1\" class=\"dataframe\">\n",
       "  <thead>\n",
       "    <tr style=\"text-align: right;\">\n",
       "      <th></th>\n",
       "      <th>mean_ip</th>\n",
       "      <th>sd_ip</th>\n",
       "      <th>kurt_ip</th>\n",
       "      <th>skew_ip</th>\n",
       "      <th>mean_dmsnr</th>\n",
       "      <th>sd_dmsnr</th>\n",
       "      <th>kurt_dmsnr</th>\n",
       "      <th>skew_dmsnr</th>\n",
       "    </tr>\n",
       "  </thead>\n",
       "  <tbody>\n",
       "    <tr>\n",
       "      <th>mean_ip</th>\n",
       "      <td>1.000000</td>\n",
       "      <td>0.547137</td>\n",
       "      <td>-0.873898</td>\n",
       "      <td>-0.738775</td>\n",
       "      <td>-0.298841</td>\n",
       "      <td>-0.307016</td>\n",
       "      <td>0.234331</td>\n",
       "      <td>0.144033</td>\n",
       "    </tr>\n",
       "    <tr>\n",
       "      <th>sd_ip</th>\n",
       "      <td>0.547137</td>\n",
       "      <td>1.000000</td>\n",
       "      <td>-0.521435</td>\n",
       "      <td>-0.539793</td>\n",
       "      <td>0.006869</td>\n",
       "      <td>-0.047632</td>\n",
       "      <td>0.029429</td>\n",
       "      <td>0.027691</td>\n",
       "    </tr>\n",
       "    <tr>\n",
       "      <th>kurt_ip</th>\n",
       "      <td>-0.873898</td>\n",
       "      <td>-0.521435</td>\n",
       "      <td>1.000000</td>\n",
       "      <td>0.945729</td>\n",
       "      <td>0.414368</td>\n",
       "      <td>0.432880</td>\n",
       "      <td>-0.341209</td>\n",
       "      <td>-0.214491</td>\n",
       "    </tr>\n",
       "    <tr>\n",
       "      <th>skew_ip</th>\n",
       "      <td>-0.738775</td>\n",
       "      <td>-0.539793</td>\n",
       "      <td>0.945729</td>\n",
       "      <td>1.000000</td>\n",
       "      <td>0.412056</td>\n",
       "      <td>0.415140</td>\n",
       "      <td>-0.328843</td>\n",
       "      <td>-0.204782</td>\n",
       "    </tr>\n",
       "    <tr>\n",
       "      <th>mean_dmsnr</th>\n",
       "      <td>-0.298841</td>\n",
       "      <td>0.006869</td>\n",
       "      <td>0.414368</td>\n",
       "      <td>0.412056</td>\n",
       "      <td>1.000000</td>\n",
       "      <td>0.796555</td>\n",
       "      <td>-0.615971</td>\n",
       "      <td>-0.354269</td>\n",
       "    </tr>\n",
       "    <tr>\n",
       "      <th>sd_dmsnr</th>\n",
       "      <td>-0.307016</td>\n",
       "      <td>-0.047632</td>\n",
       "      <td>0.432880</td>\n",
       "      <td>0.415140</td>\n",
       "      <td>0.796555</td>\n",
       "      <td>1.000000</td>\n",
       "      <td>-0.809786</td>\n",
       "      <td>-0.575800</td>\n",
       "    </tr>\n",
       "    <tr>\n",
       "      <th>kurt_dmsnr</th>\n",
       "      <td>0.234331</td>\n",
       "      <td>0.029429</td>\n",
       "      <td>-0.341209</td>\n",
       "      <td>-0.328843</td>\n",
       "      <td>-0.615971</td>\n",
       "      <td>-0.809786</td>\n",
       "      <td>1.000000</td>\n",
       "      <td>0.923743</td>\n",
       "    </tr>\n",
       "    <tr>\n",
       "      <th>skew_dmsnr</th>\n",
       "      <td>0.144033</td>\n",
       "      <td>0.027691</td>\n",
       "      <td>-0.214491</td>\n",
       "      <td>-0.204782</td>\n",
       "      <td>-0.354269</td>\n",
       "      <td>-0.575800</td>\n",
       "      <td>0.923743</td>\n",
       "      <td>1.000000</td>\n",
       "    </tr>\n",
       "  </tbody>\n",
       "</table>\n",
       "</div>"
      ],
      "text/plain": [
       "             mean_ip     sd_ip   kurt_ip   skew_ip  mean_dmsnr  sd_dmsnr  \\\n",
       "mean_ip     1.000000  0.547137 -0.873898 -0.738775   -0.298841 -0.307016   \n",
       "sd_ip       0.547137  1.000000 -0.521435 -0.539793    0.006869 -0.047632   \n",
       "kurt_ip    -0.873898 -0.521435  1.000000  0.945729    0.414368  0.432880   \n",
       "skew_ip    -0.738775 -0.539793  0.945729  1.000000    0.412056  0.415140   \n",
       "mean_dmsnr -0.298841  0.006869  0.414368  0.412056    1.000000  0.796555   \n",
       "sd_dmsnr   -0.307016 -0.047632  0.432880  0.415140    0.796555  1.000000   \n",
       "kurt_dmsnr  0.234331  0.029429 -0.341209 -0.328843   -0.615971 -0.809786   \n",
       "skew_dmsnr  0.144033  0.027691 -0.214491 -0.204782   -0.354269 -0.575800   \n",
       "\n",
       "            kurt_dmsnr  skew_dmsnr  \n",
       "mean_ip       0.234331    0.144033  \n",
       "sd_ip         0.029429    0.027691  \n",
       "kurt_ip      -0.341209   -0.214491  \n",
       "skew_ip      -0.328843   -0.204782  \n",
       "mean_dmsnr   -0.615971   -0.354269  \n",
       "sd_dmsnr     -0.809786   -0.575800  \n",
       "kurt_dmsnr    1.000000    0.923743  \n",
       "skew_dmsnr    0.923743    1.000000  "
      ]
     },
     "execution_count": 10,
     "metadata": {},
     "output_type": "execute_result"
    }
   ],
   "source": [
    "corr_matrix = pulsars[variables].corr()\n",
    "corr_matrix"
   ]
  },
  {
   "cell_type": "markdown",
   "metadata": {},
   "source": [
    "#### Let's plot the correlation matrix"
   ]
  },
  {
   "cell_type": "code",
   "execution_count": 11,
   "metadata": {},
   "outputs": [
    {
     "data": {
      "text/plain": [
       "<matplotlib.axes._subplots.AxesSubplot at 0x1aec66c3630>"
      ]
     },
     "execution_count": 11,
     "metadata": {},
     "output_type": "execute_result"
    },
    {
     "data": {
      "image/png": "[encoded data removed]",
      "text/plain": [
       "<Figure size 864x864 with 2 Axes>"
      ]
     },
     "metadata": {
      "needs_background": "light"
     },
     "output_type": "display_data"
    }
   ],
   "source": [
    "fig, ax = plt.subplots(figsize=(12,12))\n",
    "plt.title(\"Correlation matrix for explanatory variables\", fontsize = 18)\n",
    "ax.title.set_position([0.5,1.05])\n",
    "\n",
    "# Build a custom cmap, positive correlation in orange,\n",
    "# negative correlation in blue\n",
    "pos_corr = cm.get_cmap('Oranges_r', 128)\n",
    "neg_corr = cm.get_cmap('Blues', 128)\n",
    "\n",
    "custom_colors = np.vstack((neg_corr(np.linspace(1, 0, 128)), pos_corr(np.linspace(1, 0, 128))))\n",
    "custom_cmp = ListedColormap(custom_colors, name='OrangeBlue')\n",
    "\n",
    "sns.heatmap(corr_matrix,\n",
    "            vmin = -1, vmax = 1,\n",
    "            linewidths = 0.3,\n",
    "            square = True,\n",
    "            annot= True,\n",
    "           cmap = custom_cmp,\n",
    "           ax = ax)"
   ]
  },
  {
   "cell_type": "markdown",
   "metadata": {},
   "source": [
    "### Ratio of true pulsars in dataset"
   ]
  },
  {
   "cell_type": "code",
   "execution_count": 12,
   "metadata": {},
   "outputs": [
    {
     "name": "stdout",
     "output_type": "stream",
     "text": [
      "Ratio of true pulsar in dataset: 0.10081\n"
     ]
    }
   ],
   "source": [
    "print(\"Ratio of true pulsar in dataset: {0:01.5f}\".format(pulsar_ratio(pulsars[\"is_pulsar\"].value_counts())))"
   ]
  },
  {
   "cell_type": "markdown",
   "metadata": {},
   "source": [
    "So we have **data significantly unbalanced** (i.e. pulsars being only 10% of the dataset). We need to pay attention to keep the same ratio for test and training data."
   ]
  },
  {
   "cell_type": "markdown",
   "metadata": {},
   "source": [
    "## Creating training and test dataset"
   ]
  },
  {
   "cell_type": "markdown",
   "metadata": {},
   "source": [
    "Splitting data into training and test set **at random**."
   ]
  },
  {
   "cell_type": "code",
   "execution_count": 13,
   "metadata": {},
   "outputs": [],
   "source": [
    "X_train, X_test, y_train, y_test = train_test_split(pulsars[variables],\n",
    "                                                   pulsars[labels],\n",
    "                                                   test_size=0.2, random_state=42)"
   ]
  },
  {
   "cell_type": "code",
   "execution_count": 14,
   "metadata": {},
   "outputs": [
    {
     "name": "stdout",
     "output_type": "stream",
     "text": [
      "Ratio of true pulsar in train: 0.10138\n",
      "Ratio of true pulsar in test : 0.09850\n"
     ]
    }
   ],
   "source": [
    "print(\"Ratio of true pulsar in train: {0:01.5f}\".format(pulsar_ratio(y_train.value_counts())))\n",
    "print(\"Ratio of true pulsar in test : {0:01.5f}\".format(pulsar_ratio(y_test.value_counts())))"
   ]
  },
  {
   "cell_type": "markdown",
   "metadata": {},
   "source": [
    "The **ratio** is actually not too different than the ratio in the full dataset. Given the numbers of observations, random selection makes a good enough job with regards to the ratio of classes."
   ]
  },
  {
   "cell_type": "markdown",
   "metadata": {},
   "source": [
    "---\n",
    "\n",
    "**Digression:** ```train_test_split``` is actually using ShuffleSplit. I.e. the call to ```train_test_split``` is actually equivallent to:\n",
    "\n",
    "```python\n",
    "train_test_splitter = ShuffleSplit(n_splits=1, test_size=0.2, random_state=42)\n",
    "train_idx, test_idx = next(train_test_splitter.split(pulsars))\n",
    "X_train = pulsars.iloc[train_idx][variables]\n",
    "y_train = pulsars.iloc[train_idx][labels]\n",
    "etc...\n",
    "```\n",
    "---"
   ]
  },
  {
   "cell_type": "markdown",
   "metadata": {},
   "source": [
    "Because ```train_test_split``` is using ```ShuffleSplit```, it does not specifically preserve the ratio of samples for each class.\n",
    "\n",
    "An alternative would be to use ```StratifiedShuffleSplit```. Out of curiosity, let's see if it makes a significant difference in term of class ratio with the *simple* ```ShuffleSplit```."
   ]
  },
  {
   "cell_type": "code",
   "execution_count": 15,
   "metadata": {},
   "outputs": [],
   "source": [
    "ss_splitter = StratifiedShuffleSplit(n_splits=1, test_size=0.2, random_state=42)\n",
    "train_idx, test_idx = next(ss_splitter.split(pulsars[variables], pulsars[labels]))"
   ]
  },
  {
   "cell_type": "code",
   "execution_count": 16,
   "metadata": {},
   "outputs": [
    {
     "name": "stdout",
     "output_type": "stream",
     "text": [
      "Ratio of true pulsar in train: 0.10079\n",
      "Ratio of true pulsar in test : 0.10086\n"
     ]
    }
   ],
   "source": [
    "print(\"Ratio of true pulsar in train: {0:01.5f}\".format(pulsar_ratio(pulsars.iloc[train_idx][\"is_pulsar\"].value_counts())))\n",
    "print(\"Ratio of true pulsar in test : {0:01.5f}\".format(pulsar_ratio(pulsars.iloc[test_idx][\"is_pulsar\"].value_counts())))"
   ]
  },
  {
   "cell_type": "markdown",
   "metadata": {},
   "source": [
    "That's definitively (*marginally!*) better than with ```train_test_split```.\n",
    "\n",
    "**We are therefore keeping this split for our train and test dataset.**"
   ]
  },
  {
   "cell_type": "markdown",
   "metadata": {},
   "source": [
    "---\n",
    "\n",
    "is keptunder the hood, i.e. a splitting by replacement. Shuffling happens before each split, which means that each split **could contain variables already seen previously**.\n",
    "\n",
    "---"
   ]
  },
  {
   "cell_type": "markdown",
   "metadata": {},
   "source": [
    "## Classifying using SGD classifier\n",
    "I.e. a **Stochastic Gradient Descent** classifier"
   ]
  },
  {
   "cell_type": "code",
   "execution_count": 17,
   "metadata": {},
   "outputs": [],
   "source": [
    "pulsar_clf = SGDClassifier()"
   ]
  },
  {
   "cell_type": "markdown",
   "metadata": {},
   "source": [
    "### Let's use a simple model at first\n",
    "with only:\n",
    "* the mean of the Integrate Profile and,\n",
    "* the mean of the DM-SNR curve."
   ]
  },
  {
   "cell_type": "code",
   "execution_count": 18,
   "metadata": {},
   "outputs": [],
   "source": [
    "model1_feat = [\"mean_ip\", \"mean_dmsnr\"]"
   ]
  },
  {
   "cell_type": "code",
   "execution_count": 19,
   "metadata": {},
   "outputs": [],
   "source": [
    "X_train = pulsars.iloc[train_idx][model1_feat]\n",
    "y_train = pulsars.iloc[train_idx][labels]"
   ]
  },
  {
   "cell_type": "code",
   "execution_count": 20,
   "metadata": {},
   "outputs": [],
   "source": [
    "y_predict = cross_val_predict(pulsar_clf, X_train, y_train, cv = 3)"
   ]
  },
  {
   "cell_type": "markdown",
   "metadata": {},
   "source": [
    "#### Some basic performance indication on this classifier"
   ]
  },
  {
   "cell_type": "code",
   "execution_count": 66,
   "metadata": {},
   "outputs": [],
   "source": [
    "confusion_mat = confusion_matrix(y_train,y_predict)\n",
    "precision_scr = precision_score(y_train, y_predict)\n",
    "recall_scr = recall_score(y_train, y_predict)"
   ]
  },
  {
   "cell_type": "code",
   "execution_count": 76,
   "metadata": {},
   "outputs": [
    {
     "data": {
      "image/png": "[encoded data removed]",
      "text/plain": [
       "<Figure size 432x432 with 1 Axes>"
      ]
     },
     "metadata": {
      "needs_background": "light"
     },
     "output_type": "display_data"
    }
   ],
   "source": [
    "plot_binary_class_metrics(confusion_mat, precision_scr = precision_scr,\n",
    "                          recall_scr = recall_scr, figsize=(6,6))"
   ]
  },
  {
   "cell_type": "code",
   "execution_count": null,
   "metadata": {},
   "outputs": [],
   "source": []
  },
  {
   "cell_type": "code",
   "execution_count": null,
   "metadata": {},
   "outputs": [],
   "source": []
  },
  {
   "cell_type": "markdown",
   "metadata": {},
   "source": [
    "### And a more complex model now\n",
    "with all explanatory variables."
   ]
  },
  {
   "cell_type": "code",
   "execution_count": 103,
   "metadata": {},
   "outputs": [],
   "source": [
    "X_train = pulsars.iloc[train_idx][variables]\n",
    "y_train = pulsars.iloc[train_idx][labels]"
   ]
  },
  {
   "cell_type": "code",
   "execution_count": 119,
   "metadata": {},
   "outputs": [],
   "source": [
    "y_predict = cross_val_predict(pulsar_clf, X_train, y_train, cv = 3)"
   ]
  },
  {
   "cell_type": "markdown",
   "metadata": {},
   "source": [
    "#### Some basic performance indication on this classifier"
   ]
  },
  {
   "cell_type": "code",
   "execution_count": 120,
   "metadata": {},
   "outputs": [],
   "source": [
    "confusion_mat = confusion_matrix(y_train,y_predict)\n",
    "precision_scr = precision_score(y_train, y_predict)\n",
    "recall_scr = recall_score(y_train, y_predict)"
   ]
  },
  {
   "cell_type": "code",
   "execution_count": 121,
   "metadata": {},
   "outputs": [
    {
     "data": {
      "image/png": "[encoded data removed]",
      "text/plain": [
       "<Figure size 432x432 with 1 Axes>"
      ]
     },
     "metadata": {
      "needs_background": "light"
     },
     "output_type": "display_data"
    }
   ],
   "source": [
    "plot_binary_class_metrics(confusion_mat, precision_scr = precision_scr,\n",
    "                          recall_scr = recall_scr, figsize=(6,6))"
   ]
  },
  {
   "cell_type": "markdown",
   "metadata": {},
   "source": [
    "#### Let's evaluate Precision vs Recall for this last classifier"
   ]
  },
  {
   "cell_type": "code",
   "execution_count": null,
   "metadata": {},
   "outputs": [],
   "source": [
    "scores = cross_val_predict(pulsar_clf, X_train, y_train, cv = 3, method=\"decision_function\")"
   ]
  },
  {
   "cell_type": "code",
   "execution_count": null,
   "metadata": {},
   "outputs": [],
   "source": [
    "precisions, recalls, thresholds = precision_recall_curve(y_train, scores)"
   ]
  },
  {
   "cell_type": "code",
   "execution_count": null,
   "metadata": {
    "scrolled": true
   },
   "outputs": [],
   "source": [
    "plt.plot(thresholds, precisions[:-1], \"b--\", label=\"precision\")\n",
    "plt.plot(thresholds, recalls[:-1], \"g-\", label=\"recall\")\n",
    "plt.show()"
   ]
  },
  {
   "cell_type": "code",
   "execution_count": null,
   "metadata": {},
   "outputs": [],
   "source": [
    "thresholds.shape"
   ]
  },
  {
   "cell_type": "code",
   "execution_count": null,
   "metadata": {},
   "outputs": [],
   "source": [
    "precisions.shape"
   ]
  },
  {
   "cell_type": "code",
   "execution_count": null,
   "metadata": {},
   "outputs": [],
   "source": [
    "precisions[:10]"
   ]
  },
  {
   "cell_type": "code",
   "execution_count": null,
   "metadata": {},
   "outputs": [],
   "source": [
    "recalls[:10]"
   ]
  },
  {
   "cell_type": "code",
   "execution_count": null,
   "metadata": {},
   "outputs": [],
   "source": [
    "disp = plot_confusion_matrix(pulsar_clf, X_train, y_train,\n",
    "                                 display_labels=[\"0\", \"1\"],\n",
    "                                 cmap=plt.cm.Blues)\n",
    "disp.ax_.set_title(\"title\")\n",
    "\n",
    "\n",
    "plt.show()"
   ]
  },
  {
   "cell_type": "code",
   "execution_count": null,
   "metadata": {},
   "outputs": [],
   "source": []
  },
  {
   "cell_type": "code",
   "execution_count": null,
   "metadata": {},
   "outputs": [],
   "source": [
    "confusion_matrix(y_test,y_predict)"
   ]
  },
  {
   "cell_type": "code",
   "execution_count": null,
   "metadata": {},
   "outputs": [],
   "source": [
    "y_test.shape"
   ]
  },
  {
   "cell_type": "code",
   "execution_count": null,
   "metadata": {},
   "outputs": [],
   "source": [
    "3250 + 9 + 85 + 236"
   ]
  },
  {
   "cell_type": "code",
   "execution_count": null,
   "metadata": {},
   "outputs": [],
   "source": []
  }
 ],
 "metadata": {
  "kernelspec": {
   "display_name": "Python 3",
   "language": "python",
   "name": "python3"
  },
  "language_info": {
   "codemirror_mode": {
    "name": "ipython",
    "version": 3
   },
   "file_extension": ".py",
   "mimetype": "text/x-python",
   "name": "python",
   "nbconvert_exporter": "python",
   "pygments_lexer": "ipython3",
   "version": "3.7.3"
  }
 },
 "nbformat": 4,
 "nbformat_minor": 2
}
