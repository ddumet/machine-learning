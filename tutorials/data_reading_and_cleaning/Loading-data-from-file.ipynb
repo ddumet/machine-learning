{
 "cells": [
  {
   "cell_type": "markdown",
   "metadata": {},
   "source": [
    "# Different methods for loading data\n",
    "This notebook describes some various methods to read data from a file"
   ]
  },
  {
   "cell_type": "markdown",
   "metadata": {},
   "source": [
    "## Imports"
   ]
  },
  {
   "cell_type": "code",
   "execution_count": 1,
   "metadata": {},
   "outputs": [],
   "source": [
    "import numpy as np\n",
    "import pandas as pd"
   ]
  },
  {
   "cell_type": "markdown",
   "metadata": {},
   "source": [
    "### Setting some attributes"
   ]
  },
  {
   "cell_type": "code",
   "execution_count": 2,
   "metadata": {},
   "outputs": [],
   "source": [
    "filename = \"../data/ABCDE-data.csv\""
   ]
  },
  {
   "cell_type": "markdown",
   "metadata": {},
   "source": [
    "## Using numpy\n",
    "### numpy.loadtxt\n",
    "Read from simple text file. Some useful options:\n",
    "* ```name```: File, filename or **generator** to read.\n",
    "* ```dtype```: setting the type of the resulting array (default being float)\n",
    "* ```delimiter```: string used for separating values (default being white space)\n",
    "* ```skiprows```: skip the first ```skiprows``` lines\n",
    "* ```usecols```: read only the provided columns number, 0 being first column. Example: usecols = (1,3)\n",
    "\n",
    "Typically ```numpy.loadtxt``` is to be used with data saved with ```numpy.savetxt```: setting the type of the resulting array (default being float)"
   ]
  },
  {
   "cell_type": "code",
   "execution_count": 4,
   "metadata": {},
   "outputs": [],
   "source": [
    "data = np.loadtxt(filename, skiprows = 1, delimiter = \",\")"
   ]
  },
  {
   "cell_type": "code",
   "execution_count": 10,
   "metadata": {},
   "outputs": [
    {
     "name": "stdout",
     "output_type": "stream",
     "text": [
      "float64\n",
      "[[  1.276  21.4    63.957 216.204 528.   ]\n",
      " [  1.002  21.95   61.697 204.484 514.   ]\n",
      " [  1.114  22.454  63.522 205.608 514.   ]\n",
      " [  1.133  22.494  61.59  206.565 501.   ]\n",
      " [  0.845  21.654  63.729 201.289 532.   ]]\n"
     ]
    }
   ],
   "source": [
    "print(data.dtype)\n",
    "print(data[:5])"
   ]
  },
  {
   "cell_type": "markdown",
   "metadata": {},
   "source": [
    "### numpy.genfromtxt\n",
    "Similar to ```numpy.loadtxt``` (share some options, typically the ones described previously for ```numpy.loadtxt```) but add some useful features such as:\n",
    "* ```names``` : reading the name of the columns from the first row after ```skip_header``` rows.\n",
    "* ```dtype``` : if None, the dtypes will be determined by the contents of each column, individually.\n",
    "* ```missing_values``` : The set of string corresponding to missing data (e.g. \"na\").\n",
    "* ```filling_values``` : The set of values to be used as default when the data are missing."
   ]
  },
  {
   "cell_type": "code",
   "execution_count": 17,
   "metadata": {},
   "outputs": [],
   "source": [
    "data = np.genfromtxt(filename, names = True, delimiter = \",\")"
   ]
  },
  {
   "cell_type": "code",
   "execution_count": 16,
   "metadata": {},
   "outputs": [
    {
     "name": "stdout",
     "output_type": "stream",
     "text": [
      "[('A', '<f8'), ('B', '<f8'), ('C', '<f8'), ('D', '<f8'), ('E', '<f8')]\n",
      "[(1.276, 21.4  , 63.957, 216.204, 528.)\n",
      " (1.002, 21.95 , 61.697, 204.484, 514.)\n",
      " (1.114, 22.454, 63.522, 205.608, 514.)\n",
      " (1.133, 22.494, 61.59 , 206.565, 501.)\n",
      " (0.845, 21.654, 63.729, 201.289, 532.)]\n"
     ]
    }
   ],
   "source": [
    "print(data.dtype)\n",
    "print(data[:5])"
   ]
  },
  {
   "cell_type": "code",
   "execution_count": 18,
   "metadata": {},
   "outputs": [],
   "source": [
    "data = np.genfromtxt(filename, names = True, dtype = None, delimiter = \",\")"
   ]
  },
  {
   "cell_type": "markdown",
   "metadata": {},
   "source": [
    "#### Note 'E' is now of type i4"
   ]
  },
  {
   "cell_type": "code",
   "execution_count": 19,
   "metadata": {},
   "outputs": [
    {
     "name": "stdout",
     "output_type": "stream",
     "text": [
      "[('A', '<f8'), ('B', '<f8'), ('C', '<f8'), ('D', '<f8'), ('E', '<i4')]\n",
      "[(1.276, 21.4  , 63.957, 216.204, 528)\n",
      " (1.002, 21.95 , 61.697, 204.484, 514)\n",
      " (1.114, 22.454, 63.522, 205.608, 514)\n",
      " (1.133, 22.494, 61.59 , 206.565, 501)\n",
      " (0.845, 21.654, 63.729, 201.289, 532)]\n"
     ]
    }
   ],
   "source": [
    "print(data.dtype)\n",
    "print(data[:5])"
   ]
  },
  {
   "cell_type": "code",
   "execution_count": null,
   "metadata": {},
   "outputs": [],
   "source": []
  }
 ],
 "metadata": {
  "kernelspec": {
   "display_name": "Python 3",
   "language": "python",
   "name": "python3"
  },
  "language_info": {
   "codemirror_mode": {
    "name": "ipython",
    "version": 3
   },
   "file_extension": ".py",
   "mimetype": "text/x-python",
   "name": "python",
   "nbconvert_exporter": "python",
   "pygments_lexer": "ipython3",
   "version": "3.7.0"
  }
 },
 "nbformat": 4,
 "nbformat_minor": 2
}
