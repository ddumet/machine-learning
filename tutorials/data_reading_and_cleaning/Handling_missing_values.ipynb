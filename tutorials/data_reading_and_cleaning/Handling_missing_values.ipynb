{
 "cells": [
  {
   "cell_type": "markdown",
   "metadata": {},
   "source": [
    "# Handling missing values\n",
    "This notebook describes how to read and decode data."
   ]
  },
  {
   "cell_type": "markdown",
   "metadata": {},
   "source": [
    "## Data sources (or extract of data sources) used in this notebook\n",
    "* Extract (rows for 31/12/2017): NFL play by play data (from **Kaggle**: [Detailed NFL Play-by-Play Data 2009-2017](https://www.kaggle.com/maxhorowitz/nflplaybyplay2009to2016))"
   ]
  },
  {
   "cell_type": "markdown",
   "metadata": {},
   "source": [
    "## Imports"
   ]
  },
  {
   "cell_type": "code",
   "execution_count": 38,
   "metadata": {},
   "outputs": [],
   "source": [
    "import pandas as pd\n",
    "import chardet"
   ]
  },
  {
   "cell_type": "markdown",
   "metadata": {},
   "source": [
    "## Read data from files with correct encoding\n",
    "____\n",
    "\n",
    "Character encodings are specific sets of rules for mapping from raw binary byte strings (that look like this: 0110100001101001) to characters that make up human-readable text (like \"hi\"). There are many different encodings, and if you tried to read in text with a different encoding that the one it was originally written in, you ended up with scrambled text called \"mojibake\" (said like mo-gee-bah-kay). Here's an example of mojibake:\n",
    "\n",
    "æ–‡å—åŒ–ã??\n",
    "\n",
    "You might also end up with a \"unknown\" characters. There are what gets printed when there's no mapping between a particular byte and a character in the encoding you're using to read your byte string in and they look like this:\n",
    "\n",
    "����������\n",
    "\n",
    "Character encoding mismatches are less common today than they used to be, but it's definitely still a problem. There are lots of different character encodings, but the main one you need to know is UTF-8.\n",
    "\n",
    "> **UTF-8 is the standard text encoding**. All Python code is in UTF-8 and, ideally, all your data should be as well. It's when things aren't in UTF-8 that you run into trouble.\n",
    "\n",
    "Strings can be encoded/decoded differently using ```str.encode``` or ```str.decode```:\n",
    "* ```str.encode``` returns data of type **bytes** encoded in the specified encoding.\n",
    "* ```str.decode``` returns a str decoded as the specified encoding."
   ]
  },
  {
   "cell_type": "markdown",
   "metadata": {},
   "source": [
    "### Encodings"
   ]
  },
  {
   "cell_type": "code",
   "execution_count": 34,
   "metadata": {},
   "outputs": [
    {
     "name": "stdout",
     "output_type": "stream",
     "text": [
      "before is of type <class 'str'>\n"
     ]
    }
   ],
   "source": [
    "before = \"This is the euro symbol: €\"\n",
    "print(\"before is of type {}\".format(type(before)))"
   ]
  },
  {
   "cell_type": "code",
   "execution_count": 35,
   "metadata": {},
   "outputs": [
    {
     "name": "stdout",
     "output_type": "stream",
     "text": [
      "after is of type <class 'bytes'> and reads as [b'This is the euro symbol: \\xe2\\x82\\xac']\n"
     ]
    }
   ],
   "source": [
    "after = before.encode(\"utf-8\", errors = \"replace\")\n",
    "print(\"after is of type {0} and reads as [{1}]\".format(type(after),after))"
   ]
  },
  {
   "cell_type": "markdown",
   "metadata": {},
   "source": [
    "> Note the \"**\\xe2\\x82\\xac**\" replacing the \"**€**\" character. That's because bytes are printed as they were ascii characters."
   ]
  },
  {
   "cell_type": "markdown",
   "metadata": {},
   "source": [
    "#### Attempting to read/decode data with the wrong encoding will usually returns error:\n",
    "Here, attempting to read the **UTF-8** encoded ```bytes``` as **ascii**."
   ]
  },
  {
   "cell_type": "code",
   "execution_count": 37,
   "metadata": {},
   "outputs": [
    {
     "ename": "UnicodeDecodeError",
     "evalue": "'ascii' codec can't decode byte 0xe2 in position 25: ordinal not in range(128)",
     "output_type": "error",
     "traceback": [
      "\u001b[1;31m---------------------------------------------------------------------------\u001b[0m",
      "\u001b[1;31mUnicodeDecodeError\u001b[0m                        Traceback (most recent call last)",
      "\u001b[1;32m<ipython-input-37-4bf4b16e1feb>\u001b[0m in \u001b[0;36m<module>\u001b[1;34m()\u001b[0m\n\u001b[1;32m----> 1\u001b[1;33m \u001b[0mprint\u001b[0m\u001b[1;33m(\u001b[0m\u001b[0mafter\u001b[0m\u001b[1;33m.\u001b[0m\u001b[0mdecode\u001b[0m\u001b[1;33m(\u001b[0m\u001b[1;34m\"ascii\"\u001b[0m\u001b[1;33m)\u001b[0m\u001b[1;33m)\u001b[0m\u001b[1;33m\u001b[0m\u001b[0m\n\u001b[0m",
      "\u001b[1;31mUnicodeDecodeError\u001b[0m: 'ascii' codec can't decode byte 0xe2 in position 25: ordinal not in range(128)"
     ]
    }
   ],
   "source": [
    "print(after.decode(\"ascii\"))"
   ]
  },
  {
   "cell_type": "markdown",
   "metadata": {},
   "source": [
    "#### ```errors = \"replace\"``` replaces character that cannot be encoded in the specified format with the format byte string for the unknown character."
   ]
  },
  {
   "cell_type": "code",
   "execution_count": 42,
   "metadata": {},
   "outputs": [
    {
     "name": "stdout",
     "output_type": "stream",
     "text": [
      "This is the euro symbol: ?\n"
     ]
    }
   ],
   "source": [
    "after = before.encode(\"ascii\", errors = \"replace\")\n",
    "print(after.decode(\"ascii\"))"
   ]
  },
  {
   "cell_type": "markdown",
   "metadata": {},
   "source": [
    "### Finding the encoding of a file and reading it\n",
    "When reading a file we don't usually know which encoding is used. One way to figure it out is to try and test a bunch of different character encodings and see if any of them work. A better way, though, is to use the chardet module to try and automatically guess what the right encoding is. It's not 100% guaranteed to be right, but it's usually faster than just trying to guess.\n",
    "\n",
    "The process is to read a certain numbers of bytes from the file and let ```chardet``` find out which encoding is used for the file. It's generally enough to look at the first ten thousand bytes of a file for ```chardet``` to be able to give a good guess and is much faster than trying to look at the whole file. (Especially with a  large file this can be very slow). "
   ]
  },
  {
   "cell_type": "code",
   "execution_count": 44,
   "metadata": {},
   "outputs": [
    {
     "name": "stdout",
     "output_type": "stream",
     "text": [
      "{'encoding': 'UTF-8-SIG', 'confidence': 1.0, 'language': ''}\n"
     ]
    }
   ],
   "source": [
    "with open(\"../data/NFL_Play_by_Play_2009-2017_(v4)_extract.csv\", 'rb') as rawdata:\n",
    "    result = chardet.detect(rawdata.read(500))\n",
    "print(result)"
   ]
  },
  {
   "cell_type": "markdown",
   "metadata": {},
   "source": [
    "#### In this case, ```chardet``` is 100% confident the encoding is UTF-8.\n",
    "We can then read the file with ```encoding = \"utf-8\"``` (which is actually the default for ```pandas.read_csv```)."
   ]
  },
  {
   "cell_type": "code",
   "execution_count": 48,
   "metadata": {},
   "outputs": [
    {
     "data": {
      "text/plain": [
       "(2801, 102)"
      ]
     },
     "execution_count": 48,
     "metadata": {},
     "output_type": "execute_result"
    }
   ],
   "source": [
    "data = pd.read_csv(\"../data/NFL_Play_by_Play_2009-2017_(v4)_extract.csv\", encoding=\"utf-8\")\n",
    "data.shape"
   ]
  },
  {
   "cell_type": "markdown",
   "metadata": {},
   "source": [
    "```DataFrame.shape``` give us information on the size of the data, number of columns and rows."
   ]
  },
  {
   "cell_type": "code",
   "execution_count": 15,
   "metadata": {},
   "outputs": [
    {
     "data": {
      "text/plain": [
       "(2801, 102)"
      ]
     },
     "execution_count": 15,
     "metadata": {},
     "output_type": "execute_result"
    }
   ],
   "source": [
    "data.shape"
   ]
  },
  {
   "cell_type": "markdown",
   "metadata": {},
   "source": [
    "```DataFrame.describe()``` give us additional (statistical) information on each columns. For instance, one can see at a glance if some data is missing (value of **count** will be < than ```data.shape[0]```)"
   ]
  },
  {
   "cell_type": "code",
   "execution_count": 16,
   "metadata": {},
   "outputs": [
    {
     "data": {
      "text/html": [
       "<div>\n",
       "<style scoped>\n",
       "    .dataframe tbody tr th:only-of-type {\n",
       "        vertical-align: middle;\n",
       "    }\n",
       "\n",
       "    .dataframe tbody tr th {\n",
       "        vertical-align: top;\n",
       "    }\n",
       "\n",
       "    .dataframe thead th {\n",
       "        text-align: right;\n",
       "    }\n",
       "</style>\n",
       "<table border=\"1\" class=\"dataframe\">\n",
       "  <thead>\n",
       "    <tr style=\"text-align: right;\">\n",
       "      <th></th>\n",
       "      <th>GameID</th>\n",
       "      <th>Drive</th>\n",
       "      <th>qtr</th>\n",
       "      <th>down</th>\n",
       "      <th>TimeUnder</th>\n",
       "      <th>TimeSecs</th>\n",
       "      <th>PlayTimeDiff</th>\n",
       "      <th>yrdln</th>\n",
       "      <th>yrdline100</th>\n",
       "      <th>ydstogo</th>\n",
       "      <th>...</th>\n",
       "      <th>yacEPA</th>\n",
       "      <th>Home_WP_pre</th>\n",
       "      <th>Away_WP_pre</th>\n",
       "      <th>Home_WP_post</th>\n",
       "      <th>Away_WP_post</th>\n",
       "      <th>Win_Prob</th>\n",
       "      <th>WPA</th>\n",
       "      <th>airWPA</th>\n",
       "      <th>yacWPA</th>\n",
       "      <th>Season</th>\n",
       "    </tr>\n",
       "  </thead>\n",
       "  <tbody>\n",
       "    <tr>\n",
       "      <th>count</th>\n",
       "      <td>2.801000e+03</td>\n",
       "      <td>2801.000000</td>\n",
       "      <td>2801.000000</td>\n",
       "      <td>2407.000000</td>\n",
       "      <td>2801.000000</td>\n",
       "      <td>2801.000000</td>\n",
       "      <td>2801.000000</td>\n",
       "      <td>2799.000000</td>\n",
       "      <td>2799.000000</td>\n",
       "      <td>2801.000000</td>\n",
       "      <td>...</td>\n",
       "      <td>1083.000000</td>\n",
       "      <td>2630.000000</td>\n",
       "      <td>2630.000000</td>\n",
       "      <td>2621.000000</td>\n",
       "      <td>2621.000000</td>\n",
       "      <td>2.630000e+03</td>\n",
       "      <td>2762.000000</td>\n",
       "      <td>1085.000000</td>\n",
       "      <td>1083.000000</td>\n",
       "      <td>2801.0</td>\n",
       "    </tr>\n",
       "    <tr>\n",
       "      <th>mean</th>\n",
       "      <td>2.017123e+09</td>\n",
       "      <td>12.844698</td>\n",
       "      <td>2.533738</td>\n",
       "      <td>2.047362</td>\n",
       "      <td>7.410211</td>\n",
       "      <td>1736.225991</td>\n",
       "      <td>20.561228</td>\n",
       "      <td>29.263308</td>\n",
       "      <td>51.035370</td>\n",
       "      <td>7.406640</td>\n",
       "      <td>...</td>\n",
       "      <td>-0.402652</td>\n",
       "      <td>0.539297</td>\n",
       "      <td>0.460703</td>\n",
       "      <td>0.540004</td>\n",
       "      <td>0.459996</td>\n",
       "      <td>5.119508e-01</td>\n",
       "      <td>0.001042</td>\n",
       "      <td>0.009552</td>\n",
       "      <td>-0.008354</td>\n",
       "      <td>2017.0</td>\n",
       "    </tr>\n",
       "    <tr>\n",
       "      <th>std</th>\n",
       "      <td>4.641369e+00</td>\n",
       "      <td>7.414210</td>\n",
       "      <td>1.110512</td>\n",
       "      <td>1.029612</td>\n",
       "      <td>4.660919</td>\n",
       "      <td>1052.031232</td>\n",
       "      <td>16.673179</td>\n",
       "      <td>12.290691</td>\n",
       "      <td>24.086361</td>\n",
       "      <td>4.789491</td>\n",
       "      <td>...</td>\n",
       "      <td>1.961941</td>\n",
       "      <td>0.287210</td>\n",
       "      <td>0.287210</td>\n",
       "      <td>0.289224</td>\n",
       "      <td>0.289224</td>\n",
       "      <td>2.893241e-01</td>\n",
       "      <td>0.042262</td>\n",
       "      <td>0.057162</td>\n",
       "      <td>0.070068</td>\n",
       "      <td>0.0</td>\n",
       "    </tr>\n",
       "    <tr>\n",
       "      <th>min</th>\n",
       "      <td>2.017123e+09</td>\n",
       "      <td>1.000000</td>\n",
       "      <td>1.000000</td>\n",
       "      <td>1.000000</td>\n",
       "      <td>0.000000</td>\n",
       "      <td>0.000000</td>\n",
       "      <td>0.000000</td>\n",
       "      <td>1.000000</td>\n",
       "      <td>1.000000</td>\n",
       "      <td>0.000000</td>\n",
       "      <td>...</td>\n",
       "      <td>-11.649439</td>\n",
       "      <td>0.000000</td>\n",
       "      <td>0.000000</td>\n",
       "      <td>0.000000</td>\n",
       "      <td>0.000000</td>\n",
       "      <td>2.220000e-16</td>\n",
       "      <td>-0.758072</td>\n",
       "      <td>-0.973533</td>\n",
       "      <td>-0.350323</td>\n",
       "      <td>2017.0</td>\n",
       "    </tr>\n",
       "    <tr>\n",
       "      <th>25%</th>\n",
       "      <td>2.017123e+09</td>\n",
       "      <td>7.000000</td>\n",
       "      <td>2.000000</td>\n",
       "      <td>1.000000</td>\n",
       "      <td>3.000000</td>\n",
       "      <td>844.000000</td>\n",
       "      <td>5.000000</td>\n",
       "      <td>21.000000</td>\n",
       "      <td>34.000000</td>\n",
       "      <td>4.000000</td>\n",
       "      <td>...</td>\n",
       "      <td>-1.176876</td>\n",
       "      <td>0.306312</td>\n",
       "      <td>0.211095</td>\n",
       "      <td>0.303742</td>\n",
       "      <td>0.207901</td>\n",
       "      <td>2.790179e-01</td>\n",
       "      <td>-0.015958</td>\n",
       "      <td>-0.015675</td>\n",
       "      <td>-0.022787</td>\n",
       "      <td>2017.0</td>\n",
       "    </tr>\n",
       "    <tr>\n",
       "      <th>50%</th>\n",
       "      <td>2.017123e+09</td>\n",
       "      <td>13.000000</td>\n",
       "      <td>2.000000</td>\n",
       "      <td>2.000000</td>\n",
       "      <td>7.000000</td>\n",
       "      <td>1808.000000</td>\n",
       "      <td>15.000000</td>\n",
       "      <td>30.000000</td>\n",
       "      <td>54.000000</td>\n",
       "      <td>9.000000</td>\n",
       "      <td>...</td>\n",
       "      <td>0.000000</td>\n",
       "      <td>0.528281</td>\n",
       "      <td>0.471719</td>\n",
       "      <td>0.530743</td>\n",
       "      <td>0.469257</td>\n",
       "      <td>5.150523e-01</td>\n",
       "      <td>-0.000596</td>\n",
       "      <td>0.001354</td>\n",
       "      <td>0.000000</td>\n",
       "      <td>2017.0</td>\n",
       "    </tr>\n",
       "    <tr>\n",
       "      <th>75%</th>\n",
       "      <td>2.017123e+09</td>\n",
       "      <td>19.000000</td>\n",
       "      <td>4.000000</td>\n",
       "      <td>3.000000</td>\n",
       "      <td>11.000000</td>\n",
       "      <td>2612.000000</td>\n",
       "      <td>37.000000</td>\n",
       "      <td>39.000000</td>\n",
       "      <td>72.000000</td>\n",
       "      <td>10.000000</td>\n",
       "      <td>...</td>\n",
       "      <td>0.578132</td>\n",
       "      <td>0.788905</td>\n",
       "      <td>0.693688</td>\n",
       "      <td>0.792099</td>\n",
       "      <td>0.696258</td>\n",
       "      <td>7.643252e-01</td>\n",
       "      <td>0.012951</td>\n",
       "      <td>0.033685</td>\n",
       "      <td>0.013069</td>\n",
       "      <td>2017.0</td>\n",
       "    </tr>\n",
       "    <tr>\n",
       "      <th>max</th>\n",
       "      <td>2.017123e+09</td>\n",
       "      <td>30.000000</td>\n",
       "      <td>4.000000</td>\n",
       "      <td>4.000000</td>\n",
       "      <td>15.000000</td>\n",
       "      <td>3600.000000</td>\n",
       "      <td>72.000000</td>\n",
       "      <td>50.000000</td>\n",
       "      <td>99.000000</td>\n",
       "      <td>31.000000</td>\n",
       "      <td>...</td>\n",
       "      <td>7.270664</td>\n",
       "      <td>1.000000</td>\n",
       "      <td>1.000000</td>\n",
       "      <td>1.000000</td>\n",
       "      <td>1.000000</td>\n",
       "      <td>9.992919e-01</td>\n",
       "      <td>0.763208</td>\n",
       "      <td>0.200225</td>\n",
       "      <td>0.973533</td>\n",
       "      <td>2017.0</td>\n",
       "    </tr>\n",
       "  </tbody>\n",
       "</table>\n",
       "<p>8 rows × 65 columns</p>\n",
       "</div>"
      ],
      "text/plain": [
       "             GameID        Drive          qtr         down    TimeUnder  \\\n",
       "count  2.801000e+03  2801.000000  2801.000000  2407.000000  2801.000000   \n",
       "mean   2.017123e+09    12.844698     2.533738     2.047362     7.410211   \n",
       "std    4.641369e+00     7.414210     1.110512     1.029612     4.660919   \n",
       "min    2.017123e+09     1.000000     1.000000     1.000000     0.000000   \n",
       "25%    2.017123e+09     7.000000     2.000000     1.000000     3.000000   \n",
       "50%    2.017123e+09    13.000000     2.000000     2.000000     7.000000   \n",
       "75%    2.017123e+09    19.000000     4.000000     3.000000    11.000000   \n",
       "max    2.017123e+09    30.000000     4.000000     4.000000    15.000000   \n",
       "\n",
       "          TimeSecs  PlayTimeDiff        yrdln   yrdline100      ydstogo  \\\n",
       "count  2801.000000   2801.000000  2799.000000  2799.000000  2801.000000   \n",
       "mean   1736.225991     20.561228    29.263308    51.035370     7.406640   \n",
       "std    1052.031232     16.673179    12.290691    24.086361     4.789491   \n",
       "min       0.000000      0.000000     1.000000     1.000000     0.000000   \n",
       "25%     844.000000      5.000000    21.000000    34.000000     4.000000   \n",
       "50%    1808.000000     15.000000    30.000000    54.000000     9.000000   \n",
       "75%    2612.000000     37.000000    39.000000    72.000000    10.000000   \n",
       "max    3600.000000     72.000000    50.000000    99.000000    31.000000   \n",
       "\n",
       "        ...         yacEPA  Home_WP_pre  Away_WP_pre  Home_WP_post  \\\n",
       "count   ...    1083.000000  2630.000000  2630.000000   2621.000000   \n",
       "mean    ...      -0.402652     0.539297     0.460703      0.540004   \n",
       "std     ...       1.961941     0.287210     0.287210      0.289224   \n",
       "min     ...     -11.649439     0.000000     0.000000      0.000000   \n",
       "25%     ...      -1.176876     0.306312     0.211095      0.303742   \n",
       "50%     ...       0.000000     0.528281     0.471719      0.530743   \n",
       "75%     ...       0.578132     0.788905     0.693688      0.792099   \n",
       "max     ...       7.270664     1.000000     1.000000      1.000000   \n",
       "\n",
       "       Away_WP_post      Win_Prob          WPA       airWPA       yacWPA  \\\n",
       "count   2621.000000  2.630000e+03  2762.000000  1085.000000  1083.000000   \n",
       "mean       0.459996  5.119508e-01     0.001042     0.009552    -0.008354   \n",
       "std        0.289224  2.893241e-01     0.042262     0.057162     0.070068   \n",
       "min        0.000000  2.220000e-16    -0.758072    -0.973533    -0.350323   \n",
       "25%        0.207901  2.790179e-01    -0.015958    -0.015675    -0.022787   \n",
       "50%        0.469257  5.150523e-01    -0.000596     0.001354     0.000000   \n",
       "75%        0.696258  7.643252e-01     0.012951     0.033685     0.013069   \n",
       "max        1.000000  9.992919e-01     0.763208     0.200225     0.973533   \n",
       "\n",
       "       Season  \n",
       "count  2801.0  \n",
       "mean   2017.0  \n",
       "std       0.0  \n",
       "min    2017.0  \n",
       "25%    2017.0  \n",
       "50%    2017.0  \n",
       "75%    2017.0  \n",
       "max    2017.0  \n",
       "\n",
       "[8 rows x 65 columns]"
      ]
     },
     "execution_count": 16,
     "metadata": {},
     "output_type": "execute_result"
    }
   ],
   "source": [
    "data.describe()"
   ]
  },
  {
   "cell_type": "markdown",
   "metadata": {},
   "source": [
    "Another of looking for missing data (NAN) is to use ```DataFrame.isna().sum()```\n",
    "\n",
    "This will count the number of NAN for each columns."
   ]
  },
  {
   "cell_type": "code",
   "execution_count": 27,
   "metadata": {},
   "outputs": [
    {
     "data": {
      "text/plain": [
       "BlockingPlayer       2801\n",
       "DefTwoPoint          2799\n",
       "TwoPointConv         2795\n",
       "ChalReplayResult     2780\n",
       "Interceptor          2773\n",
       "RecFumbPlayer        2770\n",
       "RecFumbTeam          2770\n",
       "FieldGoalDistance    2747\n",
       "FieldGoalResult      2747\n",
       "ExPointResult        2744\n",
       "dtype: int64"
      ]
     },
     "execution_count": 27,
     "metadata": {},
     "output_type": "execute_result"
    }
   ],
   "source": [
    "# Showing the first 10 columns with NAN count\n",
    "# sorted by descending order\n",
    "\n",
    "data.isna().sum().sort_values(ascending = False)[:10]"
   ]
  },
  {
   "cell_type": "code",
   "execution_count": null,
   "metadata": {},
   "outputs": [],
   "source": []
  }
 ],
 "metadata": {
  "kernelspec": {
   "display_name": "Python 3",
   "language": "python",
   "name": "python3"
  },
  "language_info": {
   "codemirror_mode": {
    "name": "ipython",
    "version": 3
   },
   "file_extension": ".py",
   "mimetype": "text/x-python",
   "name": "python",
   "nbconvert_exporter": "python",
   "pygments_lexer": "ipython3",
   "version": "3.7.0"
  }
 },
 "nbformat": 4,
 "nbformat_minor": 2
}
